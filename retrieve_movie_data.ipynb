{
 "cells": [
  {
   "cell_type": "markdown",
   "metadata": {},
   "source": [
    "### Import Required Libraries and Set Up Environment Variables"
   ]
  },
  {
   "cell_type": "code",
   "execution_count": null,
   "metadata": {
    "tags": []
   },
   "outputs": [],
   "source": [
    "# Dependencies\n",
    "import requests\n",
    "import time\n",
    "from dotenv import load_dotenv\n",
    "import os\n",
    "import pandas as pd\n",
    "import json"
   ]
  },
  {
   "cell_type": "code",
   "execution_count": null,
   "metadata": {
    "tags": []
   },
   "outputs": [],
   "source": [
    "# Set environment variables from the .env in the local environment\n",
    "load_dotenv()\n",
    "\n",
    "nyt_api_key = os.getenv(\"NYT_API_KEY\")\n",
    "tmdb_api_key = os.getenv(\"TMDB_API_KEY\")"
   ]
  },
  {
   "cell_type": "markdown",
   "metadata": {},
   "source": [
    "### Access the New York Times API"
   ]
  },
  {
   "cell_type": "code",
   "execution_count": null,
   "metadata": {
    "tags": []
   },
   "outputs": [],
   "source": [
    "# Set the base URL\n",
    "url = \"https://api.nytimes.com/svc/search/v2/articlesearch.json?\"\n",
    "\n",
    "# Filter for movie reviews with \"love\" in the headline\n",
    "# section_name should be \"Movies\"\n",
    "# type_of_material should be \"Review\"\n",
    "filter_query = 'section_name:\"Movies\" AND type_of_material:\"Review\" AND headline:\"love\"'\n",
    "\n",
    "# Use a sort filter, sort by newest\n",
    "sort = \"newest\"\n",
    "\n",
    "# Select the following fields to return:\n",
    "# headline, web_url, snippet, source, keywords, pub_date, byline, word_count\n",
    "field_list = \"headline,web_url,snippet,source,keywords,pub_date,byline,word_count\"\n",
    "\n",
    "# Search for reviews published between a begin and end date\n",
    "begin_date = \"20130101\"\n",
    "end_date = \"20230531\"\n",
    "\n",
    "# Build URL\n",
    "constructed_url = f\"{url}fq={filter_query}&sort={sort}&fl={field_list}&begin_date={begin_date}&end_date={end_date}\"\n",
    "print(constructed_url)"
   ]
  },
  {
   "cell_type": "code",
   "execution_count": null,
   "metadata": {
    "tags": []
   },
   "outputs": [],
   "source": [
    "# Create an empty list to store the reviews\n",
    "reviews_list = []\n",
    "\n",
    "# loop through pages 0-19\n",
    "for page in range(20):\n",
    "    # create query with a page number\n",
    "    # API results show 10 articles at a time\n",
    "    page_query = f\"&page={page}\"\n",
    "    \n",
    "    # Make a \"GET\" request and retrieve the JSON\n",
    "    response = requests.get(constructed_url + page_query, params={\"api-key\": nyt_api_key})\n",
    "    \n",
    "    # Add a twelve-second interval between queries to stay within API query limits\n",
    "    time.sleep(12)\n",
    "    \n",
    "    # Try and save the reviews to the reviews_list\n",
    "    try:\n",
    "        reviews = response.json()\n",
    "        \n",
    "        # loop through the reviews[\"response\"][\"docs\"] and append each review to the list\n",
    "        for review in reviews[\"response\"][\"docs\"]:\n",
    "            reviews_list.append(review)\n",
    "        \n",
    "        # Print the page that was just retrieved\n",
    "        print(f\"Retrieved page {page + 1}\")\n",
    "        \n",
    "    except Exception as e:\n",
    "        # Print the page number that had no results then break from the loop\n",
    "        print(f\"No results found for page {page + 1}: {e}\")\n",
    "        break\n",
    "\n"
   ]
  },
  {
   "cell_type": "code",
   "execution_count": null,
   "metadata": {
    "tags": []
   },
   "outputs": [],
   "source": [
    "# Preview the first 5 results in JSON format\n",
    "# Use json.dumps with argument indent=4 to format data\n",
    "print(json.dumps(reviews_list[:5], indent=4))\n"
   ]
  },
  {
   "cell_type": "code",
   "execution_count": null,
   "metadata": {
    "tags": []
   },
   "outputs": [],
   "source": [
    "# Convert reviews_list to a Pandas DataFrame using json_normalize()\n",
    "df_reviews = pd.json_normalize(reviews_list)\n"
   ]
  },
  {
   "cell_type": "code",
   "execution_count": null,
   "metadata": {
    "tags": []
   },
   "outputs": [],
   "source": [
    "# Extract the title from the \"headline.main\" column and\n",
    "# save it to a new column \"title\"\n",
    "# Title is between unicode characters \\u2018 and \\u2019. \n",
    "# End string should include \" Review\" to avoid cutting title early\n",
    "\n",
    "# Extract the title from the \"headline.main\" column\n",
    "def extract_title(headline):\n",
    "    start_index = headline.find('\\u2018') + len('\\u2018')\n",
    "    end_index = headline.find(' Review') + len(' Review')\n",
    "    return headline[start_index:end_index]\n",
    "\n",
    "# Apply the extract_title function to create the new \"title\" column\n",
    "df_reviews['title'] = df_reviews['headline.main'].apply(extract_title)"
   ]
  },
  {
   "cell_type": "code",
   "execution_count": null,
   "metadata": {
    "tags": []
   },
   "outputs": [],
   "source": [
    "# Extract 'name' and 'value' from items in \"keywords\" column\n",
    "def extract_keywords(keyword_list):\n",
    "    extracted_keywords = \"\"\n",
    "    for item in keyword_list:\n",
    "        # Extract 'name' and 'value'\n",
    "        keyword = f\"{item['name']}: {item['value']};\" \n",
    "        # Append the keyword item to the extracted_keywords list\n",
    "        extracted_keywords += keyword\n",
    "    return extracted_keywords\n",
    "\n",
    "# Fix the \"keywords\" column by converting cells from a list to a string\n",
    "df_reviews['keywords'] = df_reviews['keywords'].apply(extract_keywords)\n"
   ]
  },
  {
   "cell_type": "code",
   "execution_count": null,
   "metadata": {
    "scrolled": true,
    "tags": []
   },
   "outputs": [],
   "source": [
    "# Create a list from the \"title\" column using to_list()\n",
    "title_list = df_reviews['title'].to_list()\n",
    "# These titles will be used in the query for The Movie Database\n",
    "# Print each title from title_list on a separate line\n",
    "for title in title_list:\n",
    "    print(title)"
   ]
  },
  {
   "cell_type": "markdown",
   "metadata": {},
   "source": [
    "### Access The Movie Database API"
   ]
  },
  {
   "cell_type": "code",
   "execution_count": null,
   "metadata": {
    "tags": []
   },
   "outputs": [],
   "source": [
    "# Prepare The Movie Database query\n",
    "url = \"https://api.themoviedb.org/3/search/movie?query=\"\n",
    "tmdb_key_string = \"&api_key=\" + tmdb_api_key"
   ]
  },
  {
   "cell_type": "code",
   "execution_count": null,
   "metadata": {
    "tags": []
   },
   "outputs": [],
   "source": [
    "# Create an empty list to store the results\n",
    "tmdb_movies_list = []\n",
    "\n",
    "\n",
    "# Create an empty list to store the results\n",
    "tmdb_movies_list = []\n",
    "\n",
    "# Create a request counter to sleep the requests after a multiple of 50 requests\n",
    "request_counter = 0\n",
    "\n",
    "# Loop through the titles\n",
    "for title in title_list:\n",
    "    # Check if we need to sleep before making a request\n",
    "    if request_counter % 50 == 0 and request_counter != 0:\n",
    "        time.sleep(10)  # Sleep for 10 seconds after every 50 requests\n",
    "\n",
    "    # Add 1 to the request counter\n",
    "    request_counter += 1\n",
    "\n",
    "    # Perform a \"GET\" request for The Movie Database\n",
    "    response = requests.get(url + title + tmdb_key_string)\n",
    "\n",
    "    # Include a try clause to search for the full movie details. \n",
    "    # Use the except clause to print out a statement if a movie is not found.\n",
    "    try:\n",
    "        # Get movie id\n",
    "        movie_id = response.json()[\"results\"][0][\"id\"]\n",
    "\n",
    "        # Make a request for the full movie details\n",
    "        movie_details_url = f\"https://api.themoviedb.org/3/movie/{movie_id}?api_key={tmdb_api_key}\"\n",
    "        movie_details_response = requests.get(movie_details_url)\n",
    "\n",
    "        # Execute \"GET\" request with url\n",
    "        movie_details = movie_details_response.json()\n",
    "\n",
    "        # Extract the genre names into a list\n",
    "        genres = [genre[\"name\"] for genre in movie_details[\"genres\"]]\n",
    "\n",
    "        # Extract the spoken_languages' English name into a list\n",
    "        spoken_languages = [lang[\"english_name\"] for lang in movie_details[\"spoken_languages\"]]\n",
    "\n",
    "        # Extract the production_countries' name into a list\n",
    "        production_countries = [country[\"name\"] for country in movie_details[\"production_countries\"]]\n",
    "\n",
    "        # Add the relevant data to a dictionary and append it to the tmdb_movies_list list\n",
    "        tmdb_movies_list.append({\n",
    "            \"title\": movie_details[\"title\"],\n",
    "            \"overview\": movie_details[\"overview\"],\n",
    "            \"genres\": genres,\n",
    "            \"spoken_languages\": spoken_languages,\n",
    "            \"production_countries\": production_countries\n",
    "        })\n",
    "\n",
    "        # Print out the title that was found\n",
    "        print(f\"Found details for movie: {title}\")\n",
    "\n",
    "    except IndexError:\n",
    "        print(f\"Movie not found: {title}\")\n",
    "\n",
    "# Print the tmdb_movies_list\n",
    "for movie in tmdb_movies_list:\n",
    "    print(movie)\n",
    "\n"
   ]
  },
  {
   "cell_type": "code",
   "execution_count": null,
   "metadata": {
    "tags": []
   },
   "outputs": [],
   "source": [
    "# Preview the first 5 results in JSON format\n",
    "# Use json.dumps with argument indent=4 to format data\n",
    "print(json.dumps(tmdb_movies_list[:5], indent=4))"
   ]
  },
  {
   "cell_type": "code",
   "execution_count": null,
   "metadata": {
    "tags": []
   },
   "outputs": [],
   "source": [
    "# Convert the results to a DataFrame table\n",
    "df_tmdb_movies = pd.DataFrame(tmdb_movies_list)\n",
    "\n",
    "# Print the DataFrame\n",
    "print(df_tmdb_movies)"
   ]
  },
  {
   "cell_type": "markdown",
   "metadata": {},
   "source": [
    "### Merge and Clean the Data for Export"
   ]
  },
  {
   "cell_type": "code",
   "execution_count": null,
   "metadata": {
    "scrolled": true,
    "tags": []
   },
   "outputs": [],
   "source": [
    "# Merge the New York Times reviews and TMDB DataFrames on title\n",
    "merged_df = pd.merge(df_reviews, df_tmdb_movies, on=\"title\", how=\"inner\")\n",
    "\n",
    "# Print the merged DataFrame\n",
    "print(merged_df)"
   ]
  },
  {
   "cell_type": "code",
   "execution_count": null,
   "metadata": {
    "tags": []
   },
   "outputs": [],
   "source": [
    "# Remove list brackets and quotation marks on the columns containing lists\n",
    "# Create a list of the columns that need fixing\n",
    "columns_to_fix = ['genres', 'spoken_languages', 'production_countries']\n",
    "\n",
    "\n",
    "# Loop through the list of columns to fix\n",
    "for column in columns_to_fix:\n",
    "    # Convert the column to type 'str'\n",
    "    merged_df[column] = merged_df[column].astype(str)\n",
    "    \n",
    "    # Loop through characters to remove\n",
    "    for char in chars_to_remove:\n",
    "        merged_df[column] = merged_df[column].str.replace(char, '')\n",
    "\n",
    "# Display the fixed DataFrame\n",
    "print(merged_df)\n"
   ]
  },
  {
   "cell_type": "code",
   "execution_count": null,
   "metadata": {
    "tags": []
   },
   "outputs": [],
   "source": [
    "# Drop \"byline.person\" column\n",
    "merged_df.drop(columns='byline.person', inplace=True)\n"
   ]
  },
  {
   "cell_type": "code",
   "execution_count": null,
   "metadata": {
    "tags": []
   },
   "outputs": [],
   "source": [
    "# Delete duplicate rows\n",
    "merged_df.drop_duplicates(inplace=True)\n",
    "\n",
    "# Reset index\n",
    "merged_df.reset_index(drop=True, inplace=True)\n",
    "\n",
    "# Print the DataFrame after deleting duplicates and resetting index\n",
    "print(merged_df)\n"
   ]
  },
  {
   "cell_type": "code",
   "execution_count": null,
   "metadata": {
    "tags": []
   },
   "outputs": [],
   "source": [
    "# Export data to CSV without the index\n",
    "merged_df.to_csv('merged_movie_data.csv', index=False)"
   ]
  }
 ],
 "metadata": {
  "kernelspec": {
   "display_name": "Python 3 (ipykernel)",
   "language": "python",
   "name": "python3"
  },
  "language_info": {
   "codemirror_mode": {
    "name": "ipython",
    "version": 3
   },
   "file_extension": ".py",
   "mimetype": "text/x-python",
   "name": "python",
   "nbconvert_exporter": "python",
   "pygments_lexer": "ipython3",
   "version": "3.11.7"
  },
  "varInspector": {
   "cols": {
    "lenName": 16,
    "lenType": 16,
    "lenVar": 40
   },
   "kernels_config": {
    "python": {
     "delete_cmd_postfix": "",
     "delete_cmd_prefix": "del ",
     "library": "var_list.py",
     "varRefreshCmd": "print(var_dic_list())"
    },
    "r": {
     "delete_cmd_postfix": ") ",
     "delete_cmd_prefix": "rm(",
     "library": "var_list.r",
     "varRefreshCmd": "cat(var_dic_list()) "
    }
   },
   "types_to_exclude": [
    "module",
    "function",
    "builtin_function_or_method",
    "instance",
    "_Feature"
   ],
   "window_display": false
  }
 },
 "nbformat": 4,
 "nbformat_minor": 4
}
